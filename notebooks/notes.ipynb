{
 "cells": [
  {
   "cell_type": "code",
   "execution_count": 2,
   "metadata": {},
   "outputs": [],
   "source": [
    "from google.cloud import bigquery\n",
    "import pandas as pd\n",
    "import os\n",
    "\n",
    "PROJECT = os.environ['GCP_PROJECT']\n",
    "DATASET = \"lecturedataset\"\n",
    "TABLE = \"testtable\"\n",
    "\n",
    "table = f\"{PROJECT}.{DATASET}.{TABLE}\"\n",
    "\n",
    "df = pd.DataFrame({'col1': [1, 2], 'col2': [3, 4]})\n",
    "\n",
    "client = bigquery.Client()\n",
    "\n",
    "write_mode = \"WRITE_TRUNCATE\" # or \"WRITE_APPEND\"\n",
    "job_config = bigquery.LoadJobConfig(write_disposition=write_mode)\n",
    "\n",
    "job = client.load_table_from_dataframe(df, table, job_config=job_config)\n",
    "result = job.result()"
   ]
  },
  {
   "cell_type": "code",
   "execution_count": null,
   "metadata": {},
   "outputs": [],
   "source": []
  }
 ],
 "metadata": {
  "kernelspec": {
   "display_name": "Python 3",
   "language": "python",
   "name": "python3"
  },
  "language_info": {
   "codemirror_mode": {
    "name": "ipython",
    "version": 3
   },
   "file_extension": ".py",
   "mimetype": "text/x-python",
   "name": "python",
   "nbconvert_exporter": "python",
   "pygments_lexer": "ipython3",
   "version": "3.8.12"
  },
  "orig_nbformat": 4,
  "vscode": {
   "interpreter": {
    "hash": "211a611e43ffd387bc3358f70c1c5270b1aa46258f0eba691e4a5432226d839e"
   }
  }
 },
 "nbformat": 4,
 "nbformat_minor": 2
}
